{
 "cells": [
  {
   "cell_type": "markdown",
   "metadata": {},
   "source": [
    "Ejercicio 1 "
   ]
  },
  {
   "cell_type": "code",
   "execution_count": null,
   "metadata": {},
   "outputs": [],
   "source": [
    "def Reporte(tanque_1, tanque_2, tanque_3):\n",
    "    Promedio = (tanque_1, tanque_2, tanque_3) / 3 \n",
    "    return f\"\"\" Report:\n",
    "    Promedio  Total: {Promedio}%\n",
    "    Tanque 1: {tanque_1}%\n",
    "    Tanque 2: {tanque_2}%\n",
    "    tanque 3: {tanque_3}%\n",
    "    \"\"\"\n"
   ]
  },
  {
   "cell_type": "code",
   "execution_count": null,
   "metadata": {},
   "outputs": [],
   "source": [
    "print(Reporte(80, 70, 85))"
   ]
  },
  {
   "cell_type": "code",
   "execution_count": null,
   "metadata": {},
   "outputs": [],
   "source": [
    "def reporte(value):\n",
    "    total = sum(value)\n",
    "    Numero_elementos = len(value)\n",
    "    return total / Numero_elementos\n",
    "\n",
    "reporte([80, 85, 81])"
   ]
  },
  {
   "cell_type": "code",
   "execution_count": null,
   "metadata": {},
   "outputs": [],
   "source": [
    "def Generar_reporte (tanque_1, tanque_2, tanque_3):\n",
    "    return f\"\"\"reporte:\n",
    "    Promedio total: {reporte([tanque_1, tanque_2, tanque_3])}%\n",
    "    tanque 1: {tanque_1}% \n",
    "    tanque 2: {tanque_2}%\n",
    "    tanque 3: {tanque_3}%\n",
    "    \"\"\"\n",
    "print(Generar_reporte(88, 76, 70))"
   ]
  },
  {
   "cell_type": "markdown",
   "metadata": {},
   "source": [
    "Ejercicio 2"
   ]
  },
  {
   "cell_type": "code",
   "execution_count": null,
   "metadata": {},
   "outputs": [],
   "source": [
    "def mission_report(pre_launch_time, flight_time, destination, external_tank, main_tank):\n",
    "    return f\"\"\"\"\n",
    "    Mission to {destination}\n",
    "    total travel time: {pre_launch_time + flight_time} minutes\n",
    "    total fuel left: {external_tank + main_tank} gallons\n",
    "    \"\"\"\n",
    "print(mission_report(14, 51, \"moon\", 200000, 300000))"
   ]
  },
  {
   "cell_type": "code",
   "execution_count": null,
   "metadata": {},
   "outputs": [],
   "source": [
    "def mission_report(destination, *minutes, **fuel_reservoirs):\n",
    "    return f\"\"\"\n",
    "    Mission to {destination}\n",
    "    Total travel time: {sum(minutes)} minutes\n",
    "    Total fuel left: {sum(fuel_reservoirs.values())}\n",
    "    \"\"\"\n",
    "\n",
    "print(mission_report(\"Moon\", 10, 15, 51, main=300000, external=200000))"
   ]
  },
  {
   "cell_type": "code",
   "execution_count": null,
   "metadata": {},
   "outputs": [],
   "source": [
    "def mission_report(destination, *minutes, **fuel_reservoirs):\n",
    "    main_report = f\"\"\"\n",
    "    Mission to {destination}\n",
    "    Total travel time: {sum(minutes)} minutes\n",
    "    Total fuel left: {sum(fuel_reservoirs.values())}\n",
    "    \"\"\"\n",
    "    for tank_name, gallons in fuel_reservoirs.items():\n",
    "        main_report += f\"{tank_name} tank --> {gallons} gallons left\\n\"\n",
    "    return main_report\n",
    "\n",
    "print(mission_report(\"Moon\", 8, 11, 55, main=300000, external=200000))"
   ]
  }
 ],
 "metadata": {
  "interpreter": {
   "hash": "54f4cf6af044592288187f397fb324841d4c83addf22e4a134cd1393f3cb0b77"
  },
  "kernelspec": {
   "display_name": "Python 3.10.2 64-bit (windows store)",
   "language": "python",
   "name": "python3"
  },
  "language_info": {
   "codemirror_mode": {
    "name": "ipython",
    "version": 3
   },
   "file_extension": ".py",
   "mimetype": "text/x-python",
   "name": "python",
   "nbconvert_exporter": "python",
   "pygments_lexer": "ipython3",
   "version": "3.10.2"
  },
  "orig_nbformat": 4
 },
 "nbformat": 4,
 "nbformat_minor": 2
}
