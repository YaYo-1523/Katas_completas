{
 "cells": [
  {
   "cell_type": "markdown",
   "metadata": {},
   "source": [
    "Ejercicio 1"
   ]
  },
  {
   "cell_type": "code",
   "execution_count": 10,
   "metadata": {},
   "outputs": [
    {
     "name": "stdout",
     "output_type": "stream",
     "text": [
      "Tranqui no pasa nada\n"
     ]
    }
   ],
   "source": [
    "Asteroide = 25\n",
    "if Asteroide > 25:\n",
    "    print(\"¡Emergencia! impacto inminente\" )\n",
    "else:\n",
    "    print (\"Tranqui no pasa nada\")"
   ]
  },
  {
   "cell_type": "markdown",
   "metadata": {},
   "source": [
    "Ejercicio 2"
   ]
  },
  {
   "cell_type": "code",
   "execution_count": 4,
   "metadata": {},
   "outputs": [
    {
     "name": "stdout",
     "output_type": "stream",
     "text": [
      "No se alcanza a ver nada :(\n"
     ]
    }
   ],
   "source": [
    "Asteroide = 19\n",
    "if Asteroide > 20:\n",
    "    print(\"Se puede apreciar un Poco de luz\")\n",
    "elif Asteroide == 20:\n",
    "    print(\"La luz se ve claramente\")\n",
    "else:\n",
    "    print(\"No se alcanza a ver nada :(\")"
   ]
  },
  {
   "cell_type": "markdown",
   "metadata": {},
   "source": [
    "Ejercicio 3"
   ]
  },
  {
   "cell_type": "code",
   "execution_count": 10,
   "metadata": {},
   "outputs": [
    {
     "name": "stdout",
     "output_type": "stream",
     "text": [
      "Un Gran asteroide se acerca ¡PELIGRO! \n"
     ]
    }
   ],
   "source": [
    "Asteroide_V = 26\n",
    "Asteroide_T = 60\n",
    "if Asteroide_V > 25 and Asteroide_T > 25:\n",
    "    print (\"Un Gran asteroide se acerca ¡PELIGRO! \")\n",
    "elif Asteroide_V >= 20:\n",
    "    print(\"Se aprecia una luz claramente\")\n",
    "elif Asteroide_T < 25:\n",
    "    print (\"no pasa nada\")\n",
    "else:\n",
    "    print(\"no pasa nada\")"
   ]
  }
 ],
 "metadata": {
  "interpreter": {
   "hash": "54f4cf6af044592288187f397fb324841d4c83addf22e4a134cd1393f3cb0b77"
  },
  "kernelspec": {
   "display_name": "Python 3.10.2 64-bit (windows store)",
   "language": "python",
   "name": "python3"
  },
  "language_info": {
   "codemirror_mode": {
    "name": "ipython",
    "version": 3
   },
   "file_extension": ".py",
   "mimetype": "text/x-python",
   "name": "python",
   "nbconvert_exporter": "python",
   "pygments_lexer": "ipython3",
   "version": "3.10.2"
  },
  "orig_nbformat": 4
 },
 "nbformat": 4,
 "nbformat_minor": 2
}
